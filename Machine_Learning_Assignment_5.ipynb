{
  "nbformat": 4,
  "nbformat_minor": 0,
  "metadata": {
    "colab": {
      "provenance": []
    },
    "kernelspec": {
      "name": "python3",
      "display_name": "Python 3"
    },
    "language_info": {
      "name": "python"
    }
  },
  "cells": [
    {
      "cell_type": "markdown",
      "source": [
        "## **1. Principal Component Analysis**"
      ],
      "metadata": {
        "id": "VW3iW8yK17KS"
      }
    },
    {
      "cell_type": "markdown",
      "source": [
        "#### Apply PCA on CC dataset."
      ],
      "metadata": {
        "id": "Qxi9yADeFCNB"
      }
    },
    {
      "cell_type": "code",
      "source": [
        "from google.colab import drive \n",
        "drive.mount('/content/gdrive')\n",
        "path_to_csv = '/content/gdrive/My Drive/datasets/CC GENERAL.csv'\n",
        "import warnings\n",
        "warnings.filterwarnings(\"ignore\")"
      ],
      "metadata": {
        "colab": {
          "base_uri": "https://localhost:8080/"
        },
        "id": "6vI1Q-ed2_C1",
        "outputId": "8253c34a-1d10-4e7a-b079-6307ebab64da"
      },
      "execution_count": 1,
      "outputs": [
        {
          "output_type": "stream",
          "name": "stdout",
          "text": [
            "Drive already mounted at /content/gdrive; to attempt to forcibly remount, call drive.mount(\"/content/gdrive\", force_remount=True).\n"
          ]
        }
      ]
    },
    {
      "cell_type": "code",
      "execution_count": 2,
      "metadata": {
        "colab": {
          "base_uri": "https://localhost:8080/"
        },
        "id": "D3Po_U980uDi",
        "outputId": "d36b84b1-804f-4a62-c8bd-f0127b96524e"
      },
      "outputs": [
        {
          "output_type": "stream",
          "name": "stdout",
          "text": [
            "           PC1       PC2\n",
            "0    -1.682220 -1.076449\n",
            "1    -1.138293  2.506498\n",
            "2     0.969680 -0.383515\n",
            "3    -0.873626  0.043171\n",
            "4    -1.599434 -0.688581\n",
            "...        ...       ...\n",
            "8945 -0.359630 -2.016150\n",
            "8946 -0.564366 -1.639141\n",
            "8947 -0.926203 -1.810792\n",
            "8948 -2.336550 -0.657981\n",
            "8949 -0.556423 -0.400476\n",
            "\n",
            "[8950 rows x 2 columns]\n"
          ]
        }
      ],
      "source": [
        "from sklearn.model_selection import train_test_split\n",
        "import pandas as pd\n",
        "from sklearn.decomposition import PCA\n",
        "#Reading the csv file using pandas\n",
        "cc = pd.read_csv(path_to_csv)\n",
        "# Fill null values with mean\n",
        "cc.fillna(cc.mean(),inplace=True)\n",
        "cc = cc.drop(['CUST_ID'], axis=1)\n",
        "\n",
        "from sklearn.preprocessing import StandardScaler\n",
        "scaler = StandardScaler()\n",
        "# Fit on data\n",
        "scaler.fit(cc)\n",
        "# Apply transform on the data\n",
        "cc_scaler = scaler.transform(cc)\n",
        "pca = PCA(2)\n",
        "cc_pca = pca.fit_transform(cc_scaler)\n",
        "cc_pca_df = pd.DataFrame(data=cc_pca, columns=['PC1','PC2'])\n",
        "print(cc_pca_df)\n"
      ]
    },
    {
      "cell_type": "markdown",
      "source": [
        "#### Apply k-means algorithm on the PCA result and report your observation if the silhouette score has improved or not?"
      ],
      "metadata": {
        "id": "rW89FurUFOnl"
      }
    },
    {
      "cell_type": "code",
      "source": [
        "from sklearn.cluster import KMeans\n",
        "nclusters = 3 # this is the k in kmeans\n",
        "km = KMeans(n_clusters=nclusters)\n",
        "km.fit(cc_scaler)\n",
        "\n",
        "# predict the cluster for each data point\n",
        "cc_cluster_kmeans = km.predict(cc_scaler)\n",
        "from sklearn import metrics\n",
        "score = metrics.silhouette_score(cc_scaler, cc_cluster_kmeans)\n",
        "print('Silhoutte score on the original data:', score)"
      ],
      "metadata": {
        "colab": {
          "base_uri": "https://localhost:8080/"
        },
        "id": "9NQ9fvXU72CG",
        "outputId": "73de5db4-0d78-4f8c-c317-5e6980fa403b"
      },
      "execution_count": 3,
      "outputs": [
        {
          "output_type": "stream",
          "name": "stdout",
          "text": [
            "Silhoutte score on the original data: 0.25059934300557285\n"
          ]
        }
      ]
    },
    {
      "cell_type": "code",
      "source": [
        "km_pca = KMeans(n_clusters=nclusters)\n",
        "km_pca.fit(cc_pca)\n",
        "\n",
        "# predict the cluster for each data point\n",
        "cc_pca_kmeans = km_pca.predict(cc_pca)\n",
        "\n",
        "score_pca = metrics.silhouette_score(cc_pca, cc_pca_kmeans)\n",
        "print('Silhoutte score on the PCA result:', score_pca)"
      ],
      "metadata": {
        "colab": {
          "base_uri": "https://localhost:8080/"
        },
        "id": "So8OEAEHGU8T",
        "outputId": "a5783770-2eb7-40ff-89b2-f900bd2abcc2"
      },
      "execution_count": 4,
      "outputs": [
        {
          "output_type": "stream",
          "name": "stdout",
          "text": [
            "Silhoutte score on the PCA result: 0.45232482021149406\n"
          ]
        }
      ]
    },
    {
      "cell_type": "markdown",
      "source": [
        "### As we can see, the silhoutte score has improved."
      ],
      "metadata": {
        "id": "zcehRWMP8lwH"
      }
    },
    {
      "cell_type": "markdown",
      "source": [
        "#### Perform Scaling+PCA+K-Means and report performance."
      ],
      "metadata": {
        "id": "ZoTgBSeUGwiw"
      }
    },
    {
      "cell_type": "code",
      "source": [
        "# elbow method to know the number of clusters\n",
        "import matplotlib.pyplot as plt\n",
        "wcss = []\n",
        "for i in range(1,11):\n",
        "    kmeans = KMeans(n_clusters=i,init='k-means++',max_iter=300,n_init=10,random_state=0)\n",
        "    kmeans.fit(cc)\n",
        "    wcss.append(kmeans.inertia_)\n",
        "\n",
        "plt.plot(range(1,11),wcss)\n",
        "plt.title('the elbow method')\n",
        "plt.xlabel('Number of Clusters')\n",
        "plt.ylabel('Wcss')\n",
        "plt.show()"
      ],
      "metadata": {
        "colab": {
          "base_uri": "https://localhost:8080/",
          "height": 472
        },
        "id": "L7NDoLrM8qEA",
        "outputId": "b1cf9fc5-e313-422f-8bb4-21e4b93a372e"
      },
      "execution_count": 5,
      "outputs": [
        {
          "output_type": "display_data",
          "data": {
            "text/plain": [
              "<Figure size 640x480 with 1 Axes>"
            ],
            "image/png": "[encoded data removed]"
          },
          "metadata": {}
        }
      ]
    },
    {
      "cell_type": "markdown",
      "source": [
        "### By seeing the above graph, we can consider k=2 and k=3 to check the performance.\n",
        "\n",
        "---\n",
        "\n"
      ],
      "metadata": {
        "id": "-jnZH-7YHj7u"
      }
    },
    {
      "cell_type": "code",
      "source": [
        "# For k = 2\n",
        "#Reading the csv file using pandas\n",
        "cc = pd.read_csv(path_to_csv)\n",
        "cc = cc.drop(['CUST_ID'], axis=1)\n",
        "cc.fillna(cc.mean(), inplace=True)\n",
        "scaler = StandardScaler()\n",
        "# Fit and transform on the data\n",
        "cc_scaler = scaler.fit_transform(cc)\n",
        "pca = PCA(2)\n",
        "cc_pca = pca.fit_transform(cc_scaler)\n",
        "km = KMeans(n_clusters=2)\n",
        "km.fit(cc_pca)\n",
        "cc_pca_kmeans = km.predict(cc_pca)\n",
        "\n",
        "score = metrics.silhouette_score(cc_pca, cc_pca_kmeans)\n",
        "# Find accuracy, classification repport and silhoutte score\n",
        "print('Accuracy:',metrics.accuracy_score(cc_cluster_kmeans,cc_pca_kmeans))\n",
        "print('Report:',metrics.classification_report(cc_cluster_kmeans,cc_pca_kmeans))\n",
        "print('Silhoutte score for k=2:', score)"
      ],
      "metadata": {
        "colab": {
          "base_uri": "https://localhost:8080/"
        },
        "id": "h5JK4yOnHriy",
        "outputId": "af86b64d-d3af-49f3-b065-ad0441ac74e1"
      },
      "execution_count": 6,
      "outputs": [
        {
          "output_type": "stream",
          "name": "stdout",
          "text": [
            "Accuracy: 0.6751955307262569\n",
            "Report:               precision    recall  f1-score   support\n",
            "\n",
            "           0       0.80      0.97      0.88      6119\n",
            "           1       0.08      0.08      0.08      1599\n",
            "           2       0.00      0.00      0.00      1232\n",
            "\n",
            "    accuracy                           0.68      8950\n",
            "   macro avg       0.29      0.35      0.32      8950\n",
            "weighted avg       0.56      0.68      0.61      8950\n",
            "\n",
            "Silhoutte score for k=2: 0.4647557458980701\n"
          ]
        }
      ]
    },
    {
      "cell_type": "code",
      "source": [
        "# For k = 3\n",
        "#Reading the csv file using pandas\n",
        "cc = pd.read_csv(path_to_csv)\n",
        "cc = cc.drop(['CUST_ID'], axis=1)\n",
        "cc.fillna(cc.mean(), inplace=True)\n",
        "scaler = StandardScaler()\n",
        "cc_scaler = scaler.fit_transform(cc)\n",
        "pca = PCA(2)\n",
        "cc_pca = pca.fit_transform(cc_scaler)\n",
        "km = KMeans(n_clusters=3)\n",
        "km.fit(cc_pca)\n",
        "cc_pca_kmeans = km.predict(cc_pca)\n",
        "\n",
        "score = metrics.silhouette_score(cc_pca, cc_pca_kmeans)\n",
        "# Find accuracy, classification repport and silhoutte score\n",
        "print('Accuracy:',metrics.accuracy_score(cc_cluster_kmeans,cc_pca_kmeans))\n",
        "print('Report:',metrics.classification_report(cc_cluster_kmeans,cc_pca_kmeans))\n",
        "print('Silhoutte score for k=3:', score)"
      ],
      "metadata": {
        "colab": {
          "base_uri": "https://localhost:8080/"
        },
        "id": "5_MUpuzrJCes",
        "outputId": "f27d8f57-faa5-4402-bfeb-3c3bc0f1c6fb"
      },
      "execution_count": 7,
      "outputs": [
        {
          "output_type": "stream",
          "name": "stdout",
          "text": [
            "Accuracy: 0.6748603351955307\n",
            "Report:               precision    recall  f1-score   support\n",
            "\n",
            "           0       0.99      0.99      0.99      6119\n",
            "           1       0.01      0.01      0.01      1599\n",
            "           2       0.00      0.00      0.00      1232\n",
            "\n",
            "    accuracy                           0.67      8950\n",
            "   macro avg       0.33      0.33      0.33      8950\n",
            "weighted avg       0.68      0.67      0.68      8950\n",
            "\n",
            "Silhoutte score for k=3: 0.452324328180543\n"
          ]
        }
      ]
    },
    {
      "cell_type": "markdown",
      "source": [
        "## **2. Use pd_speech_features.csv**"
      ],
      "metadata": {
        "id": "cCWB3NrDKpsF"
      }
    },
    {
      "cell_type": "code",
      "source": [
        "path = '/content/gdrive/My Drive/datasets/pd_speech_features.csv'\n",
        "#Reading the csv file using pandas\n",
        "sf = pd.read_csv(path)\n",
        "X = sf.iloc[:, 1:-1].values\n",
        "y = sf.iloc[:, -1].values\n",
        "scaler = StandardScaler()\n",
        "sf_scaler = scaler.fit_transform(X)\n",
        "pca = PCA(3)\n",
        "sf_pca = pca.fit_transform(sf_scaler)\n",
        "X_train, X_test, y_train, y_test = train_test_split(sf_pca, y, test_size = 0.2, random_state = 0)\n",
        "# SVM model\n",
        "from sklearn.svm import SVC\n",
        "\n",
        "classifier = SVC()\n",
        "classifier.fit(X_train, y_train)\n",
        "\n",
        "y_pred = classifier.predict(X_test)\n",
        "\n",
        "# Summary of the predictions made by the classifier\n",
        "print(metrics.classification_report(y_test, y_pred))\n",
        "print(metrics.confusion_matrix(y_test, y_pred))\n",
        "# Accuracy score\n",
        "from sklearn.metrics import accuracy_score\n",
        "print('accuracy is',accuracy_score(y_pred,y_test))"
      ],
      "metadata": {
        "colab": {
          "base_uri": "https://localhost:8080/"
        },
        "id": "PzccNrneKvSx",
        "outputId": "ac6c0d43-2a0f-4c87-98f7-1d123fcce7d9"
      },
      "execution_count": 8,
      "outputs": [
        {
          "output_type": "stream",
          "name": "stdout",
          "text": [
            "              precision    recall  f1-score   support\n",
            "\n",
            "           0       0.67      0.42      0.52        38\n",
            "           1       0.83      0.93      0.88       114\n",
            "\n",
            "    accuracy                           0.80       152\n",
            "   macro avg       0.75      0.68      0.70       152\n",
            "weighted avg       0.79      0.80      0.79       152\n",
            "\n",
            "[[ 16  22]\n",
            " [  8 106]]\n",
            "accuracy is 0.8026315789473685\n"
          ]
        }
      ]
    },
    {
      "cell_type": "markdown",
      "source": [
        "### **3. Apply Linear Discriminant Analysis (LDA) on Iris.csv dataset to reduce dimensionality of data to k=2.**"
      ],
      "metadata": {
        "id": "2iutxeD5OKpH"
      }
    },
    {
      "cell_type": "code",
      "source": [
        "from sklearn.discriminant_analysis import LinearDiscriminantAnalysis\n",
        "path_to_iris = '/content/gdrive/My Drive/datasets/Iris.csv'\n",
        "#Reading the csv file using pandas\n",
        "iris = pd.read_csv(path_to_iris)\n",
        "x = iris.iloc[:,[1,2,3,4]]\n",
        "y = iris.iloc[:,-1]\n",
        "lda = LinearDiscriminantAnalysis(n_components=2)\n",
        "pca = PCA(n_components=2)\n",
        "iris_lda = lda.fit_transform(x, y)\n",
        "iris_pca = pca.fit_transform(x)\n",
        "iris_lda_df = pd.DataFrame(data=iris_lda, columns=['PC1','PC2'])\n",
        "iris_lda_df"
      ],
      "metadata": {
        "colab": {
          "base_uri": "https://localhost:8080/",
          "height": 423
        },
        "id": "PJGfbHCTOZly",
        "outputId": "b6f5b32e-65dd-4b17-f060-e178cc57e9d1"
      },
      "execution_count": 9,
      "outputs": [
        {
          "output_type": "execute_result",
          "data": {
            "text/plain": [
              "          PC1       PC2\n",
              "0    8.084953  0.328454\n",
              "1    7.147163 -0.755473\n",
              "2    7.511378 -0.238078\n",
              "3    6.837676 -0.642885\n",
              "4    8.157814  0.540639\n",
              "..        ...       ...\n",
              "145 -5.674013  1.661346\n",
              "146 -5.197129 -0.365506\n",
              "147 -4.981712  0.812973\n",
              "148 -5.901486  2.320751\n",
              "149 -4.684009  0.325081\n",
              "\n",
              "[150 rows x 2 columns]"
            ],
            "text/html": [
              "\n",
              "  <div id=\"df-2f83aa91-d117-47a0-8737-a272ae043294\">\n",
              "    <div class=\"colab-df-container\">\n",
              "      <div>\n",
              "<style scoped>\n",
              "    .dataframe tbody tr th:only-of-type {\n",
              "        vertical-align: middle;\n",
              "    }\n",
              "\n",
              "    .dataframe tbody tr th {\n",
              "        vertical-align: top;\n",
              "    }\n",
              "\n",
              "    .dataframe thead th {\n",
              "        text-align: right;\n",
              "    }\n",
              "</style>\n",
              "<table border=\"1\" class=\"dataframe\">\n",
              "  <thead>\n",
              "    <tr style=\"text-align: right;\">\n",
              "      <th></th>\n",
              "      <th>PC1</th>\n",
              "      <th>PC2</th>\n",
              "    </tr>\n",
              "  </thead>\n",
              "  <tbody>\n",
              "    <tr>\n",
              "      <th>0</th>\n",
              "      <td>8.084953</td>\n",
              "      <td>0.328454</td>\n",
              "    </tr>\n",
              "    <tr>\n",
              "      <th>1</th>\n",
              "      <td>7.147163</td>\n",
              "      <td>-0.755473</td>\n",
              "    </tr>\n",
              "    <tr>\n",
              "      <th>2</th>\n",
              "      <td>7.511378</td>\n",
              "      <td>-0.238078</td>\n",
              "    </tr>\n",
              "    <tr>\n",
              "      <th>3</th>\n",
              "      <td>6.837676</td>\n",
              "      <td>-0.642885</td>\n",
              "    </tr>\n",
              "    <tr>\n",
              "      <th>4</th>\n",
              "      <td>8.157814</td>\n",
              "      <td>0.540639</td>\n",
              "    </tr>\n",
              "    <tr>\n",
              "      <th>...</th>\n",
              "      <td>...</td>\n",
              "      <td>...</td>\n",
              "    </tr>\n",
              "    <tr>\n",
              "      <th>145</th>\n",
              "      <td>-5.674013</td>\n",
              "      <td>1.661346</td>\n",
              "    </tr>\n",
              "    <tr>\n",
              "      <th>146</th>\n",
              "      <td>-5.197129</td>\n",
              "      <td>-0.365506</td>\n",
              "    </tr>\n",
              "    <tr>\n",
              "      <th>147</th>\n",
              "      <td>-4.981712</td>\n",
              "      <td>0.812973</td>\n",
              "    </tr>\n",
              "    <tr>\n",
              "      <th>148</th>\n",
              "      <td>-5.901486</td>\n",
              "      <td>2.320751</td>\n",
              "    </tr>\n",
              "    <tr>\n",
              "      <th>149</th>\n",
              "      <td>-4.684009</td>\n",
              "      <td>0.325081</td>\n",
              "    </tr>\n",
              "  </tbody>\n",
              "</table>\n",
              "<p>150 rows × 2 columns</p>\n",
              "</div>\n",
              "      <button class=\"colab-df-convert\" onclick=\"convertToInteractive('df-2f83aa91-d117-47a0-8737-a272ae043294')\"\n",
              "              title=\"Convert this dataframe to an interactive table.\"\n",
              "              style=\"display:none;\">\n",
              "        \n",
              "  <svg xmlns=\"http://www.w3.org/2000/svg\" height=\"24px\"viewBox=\"0 0 24 24\"\n",
              "       width=\"24px\">\n",
              "    <path d=\"M0 0h24v24H0V0z\" fill=\"none\"/>\n",
              "    <path d=\"M18.56 5.44l.94 2.06.94-2.06 2.06-.94-2.06-.94-.94-2.06-.94 2.06-2.06.94zm-11 1L8.5 8.5l.94-2.06 2.06-.94-2.06-.94L8.5 2.5l-.94 2.06-2.06.94zm10 10l.94 2.06.94-2.06 2.06-.94-2.06-.94-.94-2.06-.94 2.06-2.06.94z\"/><path d=\"M17.41 7.96l-1.37-1.37c-.4-.4-.92-.59-1.43-.59-.52 0-1.04.2-1.43.59L10.3 9.45l-7.72 7.72c-.78.78-.78 2.05 0 2.83L4 21.41c.39.39.9.59 1.41.59.51 0 1.02-.2 1.41-.59l7.78-7.78 2.81-2.81c.8-.78.8-2.07 0-2.86zM5.41 20L4 18.59l7.72-7.72 1.47 1.35L5.41 20z\"/>\n",
              "  </svg>\n",
              "      </button>\n",
              "      \n",
              "  <style>\n",
              "    .colab-df-container {\n",
              "      display:flex;\n",
              "      flex-wrap:wrap;\n",
              "      gap: 12px;\n",
              "    }\n",
              "\n",
              "    .colab-df-convert {\n",
              "      background-color: #E8F0FE;\n",
              "      border: none;\n",
              "      border-radius: 50%;\n",
              "      cursor: pointer;\n",
              "      display: none;\n",
              "      fill: #1967D2;\n",
              "      height: 32px;\n",
              "      padding: 0 0 0 0;\n",
              "      width: 32px;\n",
              "    }\n",
              "\n",
              "    .colab-df-convert:hover {\n",
              "      background-color: #E2EBFA;\n",
              "      box-shadow: 0px 1px 2px rgba(60, 64, 67, 0.3), 0px 1px 3px 1px rgba(60, 64, 67, 0.15);\n",
              "      fill: #174EA6;\n",
              "    }\n",
              "\n",
              "    [theme=dark] .colab-df-convert {\n",
              "      background-color: #3B4455;\n",
              "      fill: #D2E3FC;\n",
              "    }\n",
              "\n",
              "    [theme=dark] .colab-df-convert:hover {\n",
              "      background-color: #434B5C;\n",
              "      box-shadow: 0px 1px 3px 1px rgba(0, 0, 0, 0.15);\n",
              "      filter: drop-shadow(0px 1px 2px rgba(0, 0, 0, 0.3));\n",
              "      fill: #FFFFFF;\n",
              "    }\n",
              "  </style>\n",
              "\n",
              "      <script>\n",
              "        const buttonEl =\n",
              "          document.querySelector('#df-2f83aa91-d117-47a0-8737-a272ae043294 button.colab-df-convert');\n",
              "        buttonEl.style.display =\n",
              "          google.colab.kernel.accessAllowed ? 'block' : 'none';\n",
              "\n",
              "        async function convertToInteractive(key) {\n",
              "          const element = document.querySelector('#df-2f83aa91-d117-47a0-8737-a272ae043294');\n",
              "          const dataTable =\n",
              "            await google.colab.kernel.invokeFunction('convertToInteractive',\n",
              "                                                     [key], {});\n",
              "          if (!dataTable) return;\n",
              "\n",
              "          const docLinkHtml = 'Like what you see? Visit the ' +\n",
              "            '<a target=\"_blank\" href=https://colab.research.google.com/notebooks/data_table.ipynb>data table notebook</a>'\n",
              "            + ' to learn more about interactive tables.';\n",
              "          element.innerHTML = '';\n",
              "          dataTable['output_type'] = 'display_data';\n",
              "          await google.colab.output.renderOutput(dataTable, element);\n",
              "          const docLink = document.createElement('div');\n",
              "          docLink.innerHTML = docLinkHtml;\n",
              "          element.appendChild(docLink);\n",
              "        }\n",
              "      </script>\n",
              "    </div>\n",
              "  </div>\n",
              "  "
            ]
          },
          "metadata": {},
          "execution_count": 9
        }
      ]
    },
    {
      "cell_type": "code",
      "source": [
        "iris_pca_df = pd.DataFrame(data=iris_pca, columns=['PC1','PC2'])\n",
        "iris_pca_df"
      ],
      "metadata": {
        "colab": {
          "base_uri": "https://localhost:8080/",
          "height": 423
        },
        "id": "uq_UwgylRFbb",
        "outputId": "b2b56013-9a6c-468a-e020-84970a2a6fc0"
      },
      "execution_count": 10,
      "outputs": [
        {
          "output_type": "execute_result",
          "data": {
            "text/plain": [
              "          PC1       PC2\n",
              "0   -2.684207  0.326607\n",
              "1   -2.715391 -0.169557\n",
              "2   -2.889820 -0.137346\n",
              "3   -2.746437 -0.311124\n",
              "4   -2.728593  0.333925\n",
              "..        ...       ...\n",
              "145  1.944017  0.187415\n",
              "146  1.525664 -0.375021\n",
              "147  1.764046  0.078519\n",
              "148  1.901629  0.115877\n",
              "149  1.389666 -0.282887\n",
              "\n",
              "[150 rows x 2 columns]"
            ],
            "text/html": [
              "\n",
              "  <div id=\"df-8bdb75b6-3637-44c0-b642-aced321300a1\">\n",
              "    <div class=\"colab-df-container\">\n",
              "      <div>\n",
              "<style scoped>\n",
              "    .dataframe tbody tr th:only-of-type {\n",
              "        vertical-align: middle;\n",
              "    }\n",
              "\n",
              "    .dataframe tbody tr th {\n",
              "        vertical-align: top;\n",
              "    }\n",
              "\n",
              "    .dataframe thead th {\n",
              "        text-align: right;\n",
              "    }\n",
              "</style>\n",
              "<table border=\"1\" class=\"dataframe\">\n",
              "  <thead>\n",
              "    <tr style=\"text-align: right;\">\n",
              "      <th></th>\n",
              "      <th>PC1</th>\n",
              "      <th>PC2</th>\n",
              "    </tr>\n",
              "  </thead>\n",
              "  <tbody>\n",
              "    <tr>\n",
              "      <th>0</th>\n",
              "      <td>-2.684207</td>\n",
              "      <td>0.326607</td>\n",
              "    </tr>\n",
              "    <tr>\n",
              "      <th>1</th>\n",
              "      <td>-2.715391</td>\n",
              "      <td>-0.169557</td>\n",
              "    </tr>\n",
              "    <tr>\n",
              "      <th>2</th>\n",
              "      <td>-2.889820</td>\n",
              "      <td>-0.137346</td>\n",
              "    </tr>\n",
              "    <tr>\n",
              "      <th>3</th>\n",
              "      <td>-2.746437</td>\n",
              "      <td>-0.311124</td>\n",
              "    </tr>\n",
              "    <tr>\n",
              "      <th>4</th>\n",
              "      <td>-2.728593</td>\n",
              "      <td>0.333925</td>\n",
              "    </tr>\n",
              "    <tr>\n",
              "      <th>...</th>\n",
              "      <td>...</td>\n",
              "      <td>...</td>\n",
              "    </tr>\n",
              "    <tr>\n",
              "      <th>145</th>\n",
              "      <td>1.944017</td>\n",
              "      <td>0.187415</td>\n",
              "    </tr>\n",
              "    <tr>\n",
              "      <th>146</th>\n",
              "      <td>1.525664</td>\n",
              "      <td>-0.375021</td>\n",
              "    </tr>\n",
              "    <tr>\n",
              "      <th>147</th>\n",
              "      <td>1.764046</td>\n",
              "      <td>0.078519</td>\n",
              "    </tr>\n",
              "    <tr>\n",
              "      <th>148</th>\n",
              "      <td>1.901629</td>\n",
              "      <td>0.115877</td>\n",
              "    </tr>\n",
              "    <tr>\n",
              "      <th>149</th>\n",
              "      <td>1.389666</td>\n",
              "      <td>-0.282887</td>\n",
              "    </tr>\n",
              "  </tbody>\n",
              "</table>\n",
              "<p>150 rows × 2 columns</p>\n",
              "</div>\n",
              "      <button class=\"colab-df-convert\" onclick=\"convertToInteractive('df-8bdb75b6-3637-44c0-b642-aced321300a1')\"\n",
              "              title=\"Convert this dataframe to an interactive table.\"\n",
              "              style=\"display:none;\">\n",
              "        \n",
              "  <svg xmlns=\"http://www.w3.org/2000/svg\" height=\"24px\"viewBox=\"0 0 24 24\"\n",
              "       width=\"24px\">\n",
              "    <path d=\"M0 0h24v24H0V0z\" fill=\"none\"/>\n",
              "    <path d=\"M18.56 5.44l.94 2.06.94-2.06 2.06-.94-2.06-.94-.94-2.06-.94 2.06-2.06.94zm-11 1L8.5 8.5l.94-2.06 2.06-.94-2.06-.94L8.5 2.5l-.94 2.06-2.06.94zm10 10l.94 2.06.94-2.06 2.06-.94-2.06-.94-.94-2.06-.94 2.06-2.06.94z\"/><path d=\"M17.41 7.96l-1.37-1.37c-.4-.4-.92-.59-1.43-.59-.52 0-1.04.2-1.43.59L10.3 9.45l-7.72 7.72c-.78.78-.78 2.05 0 2.83L4 21.41c.39.39.9.59 1.41.59.51 0 1.02-.2 1.41-.59l7.78-7.78 2.81-2.81c.8-.78.8-2.07 0-2.86zM5.41 20L4 18.59l7.72-7.72 1.47 1.35L5.41 20z\"/>\n",
              "  </svg>\n",
              "      </button>\n",
              "      \n",
              "  <style>\n",
              "    .colab-df-container {\n",
              "      display:flex;\n",
              "      flex-wrap:wrap;\n",
              "      gap: 12px;\n",
              "    }\n",
              "\n",
              "    .colab-df-convert {\n",
              "      background-color: #E8F0FE;\n",
              "      border: none;\n",
              "      border-radius: 50%;\n",
              "      cursor: pointer;\n",
              "      display: none;\n",
              "      fill: #1967D2;\n",
              "      height: 32px;\n",
              "      padding: 0 0 0 0;\n",
              "      width: 32px;\n",
              "    }\n",
              "\n",
              "    .colab-df-convert:hover {\n",
              "      background-color: #E2EBFA;\n",
              "      box-shadow: 0px 1px 2px rgba(60, 64, 67, 0.3), 0px 1px 3px 1px rgba(60, 64, 67, 0.15);\n",
              "      fill: #174EA6;\n",
              "    }\n",
              "\n",
              "    [theme=dark] .colab-df-convert {\n",
              "      background-color: #3B4455;\n",
              "      fill: #D2E3FC;\n",
              "    }\n",
              "\n",
              "    [theme=dark] .colab-df-convert:hover {\n",
              "      background-color: #434B5C;\n",
              "      box-shadow: 0px 1px 3px 1px rgba(0, 0, 0, 0.15);\n",
              "      filter: drop-shadow(0px 1px 2px rgba(0, 0, 0, 0.3));\n",
              "      fill: #FFFFFF;\n",
              "    }\n",
              "  </style>\n",
              "\n",
              "      <script>\n",
              "        const buttonEl =\n",
              "          document.querySelector('#df-8bdb75b6-3637-44c0-b642-aced321300a1 button.colab-df-convert');\n",
              "        buttonEl.style.display =\n",
              "          google.colab.kernel.accessAllowed ? 'block' : 'none';\n",
              "\n",
              "        async function convertToInteractive(key) {\n",
              "          const element = document.querySelector('#df-8bdb75b6-3637-44c0-b642-aced321300a1');\n",
              "          const dataTable =\n",
              "            await google.colab.kernel.invokeFunction('convertToInteractive',\n",
              "                                                     [key], {});\n",
              "          if (!dataTable) return;\n",
              "\n",
              "          const docLinkHtml = 'Like what you see? Visit the ' +\n",
              "            '<a target=\"_blank\" href=https://colab.research.google.com/notebooks/data_table.ipynb>data table notebook</a>'\n",
              "            + ' to learn more about interactive tables.';\n",
              "          element.innerHTML = '';\n",
              "          dataTable['output_type'] = 'display_data';\n",
              "          await google.colab.output.renderOutput(dataTable, element);\n",
              "          const docLink = document.createElement('div');\n",
              "          docLink.innerHTML = docLinkHtml;\n",
              "          element.appendChild(docLink);\n",
              "        }\n",
              "      </script>\n",
              "    </div>\n",
              "  </div>\n",
              "  "
            ]
          },
          "metadata": {},
          "execution_count": 10
        }
      ]
    },
    {
      "cell_type": "code",
      "source": [
        "iris.var()"
      ],
      "metadata": {
        "colab": {
          "base_uri": "https://localhost:8080/"
        },
        "id": "1sfHd3ZFS86-",
        "outputId": "1c8f77a3-98eb-47b1-b38e-94438ee47925"
      },
      "execution_count": 11,
      "outputs": [
        {
          "output_type": "execute_result",
          "data": {
            "text/plain": [
              "Id               1887.500000\n",
              "SepalLengthCm       0.685694\n",
              "SepalWidthCm        0.188004\n",
              "PetalLengthCm       3.113179\n",
              "PetalWidthCm        0.582414\n",
              "dtype: float64"
            ]
          },
          "metadata": {},
          "execution_count": 11
        }
      ]
    },
    {
      "cell_type": "code",
      "source": [
        "iris.mean()"
      ],
      "metadata": {
        "colab": {
          "base_uri": "https://localhost:8080/"
        },
        "id": "Yuz-syyuUKrH",
        "outputId": "724cae41-7ecf-40aa-ab0c-c4d1d5978e71"
      },
      "execution_count": 12,
      "outputs": [
        {
          "output_type": "execute_result",
          "data": {
            "text/plain": [
              "Id               75.500000\n",
              "SepalLengthCm     5.843333\n",
              "SepalWidthCm      3.054000\n",
              "PetalLengthCm     3.758667\n",
              "PetalWidthCm      1.198667\n",
              "dtype: float64"
            ]
          },
          "metadata": {},
          "execution_count": 12
        }
      ]
    },
    {
      "cell_type": "markdown",
      "source": [
        "#### As we can see, the absolute values of result of lda are around mean values whereas the absolute values of the results of pca are around the variance."
      ],
      "metadata": {
        "id": "VyswLZUUUfD0"
      }
    }
  ]
}